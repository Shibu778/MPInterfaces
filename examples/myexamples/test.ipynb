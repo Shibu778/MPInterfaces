{
 "cells": [
  {
   "cell_type": "code",
   "execution_count": 5,
   "metadata": {},
   "outputs": [],
   "source": [
    "from hetero_interface import *"
   ]
  },
  {
   "cell_type": "code",
   "execution_count": 6,
   "metadata": {},
   "outputs": [],
   "source": [
    "substrate_bulk = Structure.from_file(\"POSCAR_GaAs.vasp\")\n",
    "mat2d_bulk = Structure.from_file(\"POSCAR_CdTe.vasp\")"
   ]
  },
  {
   "cell_type": "code",
   "execution_count": 7,
   "metadata": {},
   "outputs": [
    {
     "data": {
      "text/plain": [
       "'Cd1 Te1\\n1.0\\n   4.6416095888248439    0.0000000000000000    0.0000000000000003\\n  -0.0000000023914645    4.6416101500000000    0.0000000000000003\\n   0.0000000000000000    0.0000000000000000    1.6410565200338141\\nCd Te\\n1 1\\ndirect\\n   0.0000000000000000    0.0000000000000000    0.0000000000000000 Cd\\n   0.9999999210354010    0.5000001114759697    0.0000000000000000 Te\\n'"
      ]
     },
     "execution_count": 7,
     "metadata": {},
     "output_type": "execute_result"
    }
   ],
   "source": [
    "substrate = Interface(\n",
    "        substrate_bulk,\n",
    "        hkl=[1, 1, 0],\n",
    "        min_thick=10,\n",
    "        min_vac=25,\n",
    "        primitive=False,\n",
    "        from_ase=True,\n",
    "    )\n",
    "mat2d = Interface(\n",
    "    mat2d_bulk,\n",
    "    hkl=[1, 1, 0],\n",
    "    min_thick=2,\n",
    "    min_vac=0,\n",
    "    primitive=False,\n",
    "    from_ase=True,\n",
    ")\n",
    "substrate.to(fmt=\"poscar\", filename=\"POSCAR_substrate_initial.vasp\")\n",
    "mat2d.to(fmt=\"poscar\", filename=\"POSCAR_mat2d_initial.vasp\")\n"
   ]
  },
  {
   "cell_type": "code",
   "execution_count": 8,
   "metadata": {},
   "outputs": [
    {
     "name": "stdout",
     "output_type": "stream",
     "text": [
      "area1, area2 16.532297446606922 21.54454217982672\n",
      "rmax1, rmax2 12 9\n",
      "a2/a1 1.303178959210446\n"
     ]
    },
    {
     "ename": "ValueError",
     "evalue": "shapes (2,3) and (2,3) not aligned: 3 (dim 1) != 2 (dim 0)",
     "output_type": "error",
     "traceback": [
      "\u001b[1;31m---------------------------------------------------------------------------\u001b[0m",
      "\u001b[1;31mValueError\u001b[0m                                Traceback (most recent call last)",
      "Cell \u001b[1;32mIn[8], line 1\u001b[0m\n\u001b[1;32m----> 1\u001b[0m uv_substrate, uv_mat2d \u001b[38;5;241m=\u001b[39m \u001b[43mget_matching_lattices\u001b[49m\u001b[43m(\u001b[49m\n\u001b[0;32m      2\u001b[0m \u001b[43m        \u001b[49m\u001b[43msubstrate\u001b[49m\u001b[43m,\u001b[49m\n\u001b[0;32m      3\u001b[0m \u001b[43m        \u001b[49m\u001b[43mmat2d\u001b[49m\u001b[43m,\u001b[49m\n\u001b[0;32m      4\u001b[0m \u001b[43m        \u001b[49m\u001b[43mmax_area\u001b[49m\u001b[38;5;241;43m=\u001b[39;49m\u001b[38;5;241;43m200\u001b[39;49m\u001b[43m,\u001b[49m\n\u001b[0;32m      5\u001b[0m \u001b[43m        \u001b[49m\u001b[43mmax_mismatch\u001b[49m\u001b[38;5;241;43m=\u001b[39;49m\u001b[38;5;241;43m0.01\u001b[39;49m\u001b[43m,\u001b[49m\n\u001b[0;32m      6\u001b[0m \u001b[43m        \u001b[49m\u001b[43mmax_angle_diff\u001b[49m\u001b[38;5;241;43m=\u001b[39;49m\u001b[38;5;241;43m1\u001b[39;49m\u001b[43m,\u001b[49m\n\u001b[0;32m      7\u001b[0m \u001b[43m        \u001b[49m\u001b[43mr1r2_tol\u001b[49m\u001b[38;5;241;43m=\u001b[39;49m\u001b[38;5;241;43m0.02\u001b[39;49m\u001b[43m,\u001b[49m\n\u001b[0;32m      8\u001b[0m \u001b[43m    \u001b[49m\u001b[43m)\u001b[49m\n",
      "File \u001b[1;32mc:\\Users\\shibu\\local_code_library\\python_packages\\MPInterfaces\\examples\\myexamples\\hetero_interface.py:110\u001b[0m, in \u001b[0;36mget_matching_lattices\u001b[1;34m(iface1, iface2, max_area, max_mismatch, max_angle_diff, r1r2_tol)\u001b[0m\n\u001b[0;32m    108\u001b[0m u_mismatch \u001b[38;5;241m=\u001b[39m get_mismatch(uv1[\u001b[38;5;241m0\u001b[39m], uv2[\u001b[38;5;241m0\u001b[39m])\n\u001b[0;32m    109\u001b[0m v_mismatch \u001b[38;5;241m=\u001b[39m get_mismatch(uv1[\u001b[38;5;241m1\u001b[39m], uv2[\u001b[38;5;241m1\u001b[39m])\n\u001b[1;32m--> 110\u001b[0m angle1 \u001b[38;5;241m=\u001b[39m \u001b[43mget_angle\u001b[49m\u001b[43m(\u001b[49m\u001b[43muv1\u001b[49m\u001b[43m[\u001b[49m\u001b[38;5;241;43m0\u001b[39;49m\u001b[43m]\u001b[49m\u001b[43m,\u001b[49m\u001b[43m \u001b[49m\u001b[43muv1\u001b[49m\u001b[43m[\u001b[49m\u001b[38;5;241;43m1\u001b[39;49m\u001b[43m]\u001b[49m\u001b[43m)\u001b[49m\n\u001b[0;32m    111\u001b[0m angle2 \u001b[38;5;241m=\u001b[39m get_angle(uv2[\u001b[38;5;241m0\u001b[39m], uv2[\u001b[38;5;241m1\u001b[39m])\n\u001b[0;32m    112\u001b[0m \u001b[38;5;28mprint\u001b[39m(\u001b[38;5;124m\"\u001b[39m\u001b[38;5;130;01m\\n\u001b[39;00m\u001b[38;5;124mu1, u2\u001b[39m\u001b[38;5;124m\"\u001b[39m, np\u001b[38;5;241m.\u001b[39mlinalg\u001b[38;5;241m.\u001b[39mnorm(uv1[\u001b[38;5;241m0\u001b[39m]), np\u001b[38;5;241m.\u001b[39mlinalg\u001b[38;5;241m.\u001b[39mnorm(uv2[\u001b[38;5;241m0\u001b[39m]))\n",
      "File \u001b[1;32mc:\\Users\\shibu\\local_code_library\\python_packages\\MPInterfaces\\examples\\myexamples\\hetero_interface.py:56\u001b[0m, in \u001b[0;36mget_angle\u001b[1;34m(a, b)\u001b[0m\n\u001b[0;32m     54\u001b[0m a \u001b[38;5;241m=\u001b[39m np\u001b[38;5;241m.\u001b[39marray(a)\n\u001b[0;32m     55\u001b[0m b \u001b[38;5;241m=\u001b[39m np\u001b[38;5;241m.\u001b[39marray(b)\n\u001b[1;32m---> 56\u001b[0m \u001b[38;5;28;01mreturn\u001b[39;00m np\u001b[38;5;241m.\u001b[39marccos(\u001b[43mnp\u001b[49m\u001b[38;5;241;43m.\u001b[39;49m\u001b[43mdot\u001b[49m\u001b[43m(\u001b[49m\u001b[43ma\u001b[49m\u001b[43m,\u001b[49m\u001b[43m \u001b[49m\u001b[43mb\u001b[49m\u001b[43m)\u001b[49m \u001b[38;5;241m/\u001b[39m np\u001b[38;5;241m.\u001b[39mlinalg\u001b[38;5;241m.\u001b[39mnorm(a) \u001b[38;5;241m/\u001b[39m np\u001b[38;5;241m.\u001b[39mlinalg\u001b[38;5;241m.\u001b[39mnorm(b)) \u001b[38;5;241m*\u001b[39m \u001b[38;5;241m180\u001b[39m \u001b[38;5;241m/\u001b[39m np\u001b[38;5;241m.\u001b[39mpi\n",
      "\u001b[1;31mValueError\u001b[0m: shapes (2,3) and (2,3) not aligned: 3 (dim 1) != 2 (dim 0)"
     ]
    }
   ],
   "source": [
    "uv_substrate, uv_mat2d = get_matching_lattices(\n",
    "        substrate,\n",
    "        mat2d,\n",
    "        max_area=200,\n",
    "        max_mismatch=0.01,\n",
    "        max_angle_diff=1,\n",
    "        r1r2_tol=0.02,\n",
    "    )"
   ]
  },
  {
   "cell_type": "code",
   "execution_count": 9,
   "metadata": {},
   "outputs": [],
   "source": [
    "iface1 = substrate\n",
    "iface2 = mat2d\n",
    "area1 = substrate.surface_area\n",
    "area2 = mat2d.surface_area"
   ]
  },
  {
   "cell_type": "code",
   "execution_count": 11,
   "metadata": {},
   "outputs": [
    {
     "data": {
      "text/plain": [
       "(16.532297446606922, 21.54454217982672)"
      ]
     },
     "execution_count": 11,
     "metadata": {},
     "output_type": "execute_result"
    }
   ],
   "source": [
    "area1, area2"
   ]
  },
  {
   "cell_type": "code",
   "execution_count": 12,
   "metadata": {},
   "outputs": [],
   "source": [
    "ab1 = [iface1.lattice.matrix[0, :], iface1.lattice.matrix[1, :]]\n",
    "ab2 = [iface2.lattice.matrix[0, :], iface2.lattice.matrix[1, :]]\n"
   ]
  },
  {
   "cell_type": "code",
   "execution_count": 13,
   "metadata": {},
   "outputs": [
    {
     "data": {
      "text/plain": [
       "([array([4.06599260e+00, 0.00000000e+00, 2.48970241e-16]),\n",
       "  array([6.53861544e-16, 4.06599300e+00, 2.48970266e-16])],\n",
       " [array([4.64160959e+00, 0.00000000e+00, 2.84216616e-16]),\n",
       "  array([-2.39146448e-09,  4.64161015e+00,  2.84216651e-16])])"
      ]
     },
     "execution_count": 13,
     "metadata": {},
     "output_type": "execute_result"
    }
   ],
   "source": [
    "ab1, ab2"
   ]
  },
  {
   "cell_type": "code",
   "execution_count": 14,
   "metadata": {},
   "outputs": [
    {
     "name": "stdout",
     "output_type": "stream",
     "text": [
      "\u001b[1;31mType:\u001b[0m           Interface\n",
      "\u001b[1;31mString form:\u001b[0m   \n",
      "Slab Summary (Ga4 As4)\n",
      "           Reduced Formula: GaAs\n",
      "           Miller index: (1, 1, 0)\n",
      "           Shift: 0.0000, Scale Factor: <...>  0.561499\n",
      "           7 Ga     0.500000     0.500000     0.602498\n",
      "           8 As     0.500000     1.000000     0.643497\n",
      "\u001b[1;31mLength:\u001b[0m         8\n",
      "\u001b[1;31mFile:\u001b[0m           c:\\users\\shibu\\local_code_library\\python_packages\\mpinterfaces\\mpinterfaces\\interface.py\n",
      "\u001b[1;31mDocstring:\u001b[0m     \n",
      "Interface = slab + ligand + environment(solvent)\n",
      "Creates a Slab - Ligand Interface of given coverage and given\n",
      "slab-ligand displacement\n",
      "\n",
      "Args:\n",
      "    strt: Starting Structure Object for Slab of the Interface\n",
      "    hkl: Miller Index of Slab\n",
      "    min_thick: Minimum Slab Thickness in Angstroms desired\n",
      "    min_vac: Minimum Vacuum Spacing (Padding top and bottom, each)\n",
      "             in Angstroms\n",
      "    supercell: Trial supercell to start with to enforce coverage,\n",
      "               default 1x1x1\n",
      "    name: System name to specify database entry\n",
      "          (can be a combination of miller indices of slab and\n",
      "          ligand and solvent)\n",
      "          eg: \"PbS [1,1,1] + Hydrazine in DMF (epsilon = 37.5)\"\n",
      "    adsorb_on_species: Reference atom on slab to adsorb on\n",
      "    adatom_on_lig: bonding atom on ligand\n",
      "    ligand: structure object for ligand\n",
      "    displacement: initial adsorption distance desired above the\n",
      "                  adsorb_on_species\n",
      "    surface_coverage: Number of ligands desired per surface area\n",
      "                      of slab, in ligands per square angstroms\n",
      "    scell_max: Maximum number of supercells to create (used for\n",
      "               finding supercell for the given coverage requirement\n",
      "    coverage_tol: Tolerance for coverage calculation in Ligands\n",
      "                  per square Angstroms\n",
      "    solvent: Name of solvent to be added for the run\n",
      "    start_from_slab: Whether slab is given as input. Useful when\n",
      "                     custom reconstructed slabs are to be used\n",
      "    validate_proximity: Check whether any atoms are too close\n",
      "                        (using pymatgen default of 0.01 Angstroms)\n",
      "    to_unit_cell: Pymatgen Slab routine to find unit cell\n",
      "    coords_are_cartesian: Whether the input coordinates are in\n",
      "                          cartesian\n",
      "    from_ase: Whether to create Slab using python-ase for producing\n",
      "              slabs that have orthogonal lattice vectors\n",
      "\n",
      "    NOTE:\n",
      "    if starting from the bulk structure, create slab\n",
      "    note: if the starting structure is a slab, the vaccum extension\n",
      "    is not possible\n",
      "\u001b[1;31mInit docstring:\u001b[0m\n",
      "Makes a Slab structure, a structure object with additional information\n",
      "and methods pertaining to slabs.\n",
      "\n",
      "Args:\n",
      "    lattice (Lattice/3x3 array): The lattice, either as a\n",
      "        pymatgen.core.Lattice or\n",
      "        simply as any 2D array. Each row should correspond to a lattice\n",
      "        vector. E.g., [[10,0,0], [20,10,0], [0,0,30]] specifies a\n",
      "        lattice with lattice vectors [10,0,0], [20,10,0] and [0,0,30].\n",
      "    species ([Species]): Sequence of species on each site. Can take in\n",
      "        flexible input, including:\n",
      "\n",
      "        i.  A sequence of element / species specified either as string\n",
      "            symbols, e.g. [\"Li\", \"Fe2+\", \"P\", ...] or atomic numbers,\n",
      "            e.g., (3, 56, ...) or actual Element or Species objects.\n",
      "\n",
      "        ii. List of dict of elements/species and occupancies, e.g.,\n",
      "            [{\"Fe\" : 0.5, \"Mn\":0.5}, ...]. This allows the setup of\n",
      "            disordered structures.\n",
      "    coords (Nx3 array): list of fractional/cartesian coordinates of each species.\n",
      "    miller_index ([h, k, l]): Miller index of plane parallel to\n",
      "        surface. Note that this is referenced to the input structure. If\n",
      "        you need this to be based on the conventional cell,\n",
      "        you should supply the conventional structure.\n",
      "    oriented_unit_cell (Structure): The oriented_unit_cell from which\n",
      "        this Slab is created (by scaling in the c-direction).\n",
      "    shift (float): The shift in the c-direction applied to get the\n",
      "        termination.\n",
      "    scale_factor (np.ndarray): scale_factor Final computed scale factor\n",
      "        that brings the parent cell to the surface cell.\n",
      "    reorient_lattice (bool): reorients the lattice parameters such that\n",
      "        the c direction is along the z axis.\n",
      "    validate_proximity (bool): Whether to check if there are sites\n",
      "        that are less than 0.01 Ang apart. Defaults to False.\n",
      "    reconstruction (str): Type of reconstruction. Defaults to None if\n",
      "        the slab is not reconstructed.\n",
      "    to_unit_cell (bool): Translates fractional coordinates into the unit cell. Defaults to False.\n",
      "    coords_are_cartesian (bool): Set to True if you are providing\n",
      "        coordinates in Cartesian coordinates. Defaults to False.\n",
      "    site_properties (dict): Properties associated with the sites as a\n",
      "        dict of sequences, e.g., {\"magmom\":[5,5,5,5]}. The sequences\n",
      "        have to be the same length as the atomic species and\n",
      "        fractional_coords. Defaults to None for no properties.\n",
      "    energy (float): A value for the energy.\n",
      "    properties (dict): dictionary containing properties associated\n",
      "        with the whole slab."
     ]
    }
   ],
   "source": [
    "iface1?"
   ]
  },
  {
   "cell_type": "code",
   "execution_count": null,
   "metadata": {},
   "outputs": [],
   "source": []
  },
  {
   "cell_type": "code",
   "execution_count": null,
   "metadata": {},
   "outputs": [],
   "source": []
  },
  {
   "cell_type": "code",
   "execution_count": null,
   "metadata": {},
   "outputs": [],
   "source": []
  },
  {
   "cell_type": "code",
   "execution_count": null,
   "metadata": {},
   "outputs": [],
   "source": []
  },
  {
   "cell_type": "code",
   "execution_count": null,
   "metadata": {},
   "outputs": [],
   "source": []
  }
 ],
 "metadata": {
  "kernelspec": {
   "display_name": "mpinterface",
   "language": "python",
   "name": "python3"
  },
  "language_info": {
   "codemirror_mode": {
    "name": "ipython",
    "version": 3
   },
   "file_extension": ".py",
   "mimetype": "text/x-python",
   "name": "python",
   "nbconvert_exporter": "python",
   "pygments_lexer": "ipython3",
   "version": "3.12.0"
  }
 },
 "nbformat": 4,
 "nbformat_minor": 2
}
